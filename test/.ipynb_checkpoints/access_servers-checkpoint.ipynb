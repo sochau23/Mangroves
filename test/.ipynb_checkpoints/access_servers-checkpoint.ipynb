{
 "cells": [
  {
   "cell_type": "code",
   "execution_count": 3,
   "metadata": {},
   "outputs": [
    {
     "data": {
      "image/png": "[encoded data removed]",
      "text/plain": [
       "<Figure size 432x288 with 1 Axes>"
      ]
     },
     "metadata": {
      "needs_background": "light"
     },
     "output_type": "display_data"
    }
   ],
   "source": [
    "import os\n",
    "import numpy as np\n",
    "import matplotlib.pyplot as plt\n",
    "import pandas as pd\n",
    "ddd\n",
    "# Parameters and arguments\n",
    "in_dir = '/nfs/mangrovesglobalization-data'\n",
    "file_name = 'data/'\n",
    "out_dir = '/nfs/mangrovesglobalization-data'\n",
    "\n",
    "# Generate example data\n",
    "x = np.arange(0., 10., 0.4)\n",
    "y = x**2\n",
    "\n",
    "plt.plot(x, y, 'bs')\n",
    "plt.xlabel('x')\n",
    "plt.ylabel('y')\n",
    "\n",
    "out_plot_filename = os.path.join(out_dir, 'x_y_plot.png')\n",
    "plt.savefig(out_plot_filename)\n",
    "\n",
    "# Write out test data to current directory\n",
    "dataset = pd.DataFrame({'x':x, 'y':y})\n",
    "## print(dataset)\n",
    "out_filename = os.path.join(out_dir, 'dataset.csv')\n",
    "## write out to csv\n",
    "dataset.to_csv(out_filename)"
   ]
  }
 ],
 "metadata": {
  "kernelspec": {
   "display_name": "Python 3",
   "language": "python",
   "name": "python3"
  },
  "language_info": {
   "codemirror_mode": {
    "name": "ipython",
    "version": 3
   },
   "file_extension": ".py",
   "mimetype": "text/x-python",
   "name": "python",
   "nbconvert_exporter": "python",
   "pygments_lexer": "ipython3",
   "version": "3.5.2"
  }
 },
 "nbformat": 4,
 "nbformat_minor": 2
}
